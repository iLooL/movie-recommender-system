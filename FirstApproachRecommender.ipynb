{
 "cells": [
  {
   "cell_type": "markdown",
   "metadata": {},
   "source": [
    "<h1>Basic Recommender System</h1>"
   ]
  },
  {
   "cell_type": "markdown",
   "metadata": {},
   "source": [
    "<h2>Imports</h2>"
   ]
  },
  {
   "cell_type": "code",
   "execution_count": 1,
   "metadata": {},
   "outputs": [
    {
     "name": "stderr",
     "output_type": "stream",
     "text": [
      "C:\\Users\\Adam Gumieniak\\anaconda3\\envs\\data_science\\lib\\site-packages\\fuzzywuzzy\\fuzz.py:11: UserWarning: Using slow pure-python SequenceMatcher. Install python-Levenshtein to remove this warning\n",
      "  warnings.warn('Using slow pure-python SequenceMatcher. Install python-Levenshtein to remove this warning')\n"
     ]
    }
   ],
   "source": [
    "import pandas as pd\n",
    "import numpy as np\n",
    "from scipy.sparse import csr_matrix\n",
    "from sklearn.neighbors import NearestNeighbors\n",
    "from fuzzywuzzy import fuzz\n",
    "from random import random\n",
    "from surprise import Dataset, Reader, SVD, accuracy\n",
    "from surprise.model_selection import train_test_split"
   ]
  },
  {
   "cell_type": "markdown",
   "metadata": {},
   "source": [
    "<h2>Functions</h2>"
   ]
  },
  {
   "cell_type": "code",
   "execution_count": 2,
   "metadata": {},
   "outputs": [],
   "source": [
    "def filter_data():\n",
    "    \"\"\"\n",
    "    Function to ready data for recommendation. Returns a movie-user matrix \n",
    "    of interesting data. This data is a matrix of all userId's on the columns\n",
    "    and all movieId's as the rows. Values are ratings where the all movie values have\n",
    "    more than 50.\n",
    "    \n",
    "    Returns:\n",
    "    movie_user_matrix (scipy.sparse.csr.csr_matrix)\n",
    "    hashmap (dict): holds movie title and index of that movie\n",
    "    \"\"\"\n",
    "    \n",
    "    # Read data\n",
    "    movies = pd.read_csv(\"data/movies.csv\",usecols=['movieId', 'title'], dtype={'movieId': 'int32', 'title': 'str'})\n",
    "    ratings = pd.read_csv(\"data/ratings.csv\", usecols=['userId', 'movieId', 'rating'], dtype={'userId': 'int32', 'movieId': 'int32', 'rating': 'float32'})\n",
    "    \n",
    "    # The count of each movie \n",
    "    movies_count = pd.DataFrame(ratings.groupby('movieId').size(), columns=['count'])\n",
    "\n",
    "    # Get popular movies that only have more than 50 ratings\n",
    "    popular = list(set(movies_count.query('count >= 50').index))\n",
    "    movies_filtered = ratings.movieId.isin(popular).values\n",
    "\n",
    "    # The count of each user\n",
    "    users_count = pd.DataFrame(ratings.groupby('userId').size(), columns=['count'])\n",
    "    \n",
    "    # Get popular users that have more than 50 ratings\n",
    "    active_users = list(set(users_count.query('count >= 50').index))\n",
    "    users_filtered = ratings.userId.isin(active_users).values\n",
    "    \n",
    "    ratings_filtered = ratings[movies_filtered & users_filtered]\n",
    "    \n",
    "    # Create movie-user matrix which will be needed for KNN, empty values are set to 0\n",
    "    movie_user = ratings_filtered.pivot(index='movieId', columns='userId', values='rating').fillna(0)\n",
    "        \n",
    "    # Hashmap that point from movie title to index\n",
    "    hashmap = {\n",
    "        movie: i for i, movie in \n",
    "        enumerate(list(movies.set_index('movieId').loc[movie_user.index].title))\n",
    "    }\n",
    "    \n",
    "    # Since movie_user matrix is very sparse\n",
    "    # we transform matrix to scipy sparse matrix \n",
    "    movie_user_matrix = csr_matrix(movie_user.values)\n",
    "    \n",
    "    \n",
    "    \n",
    "    return movie_user_matrix, hashmap"
   ]
  },
  {
   "cell_type": "code",
   "execution_count": 3,
   "metadata": {},
   "outputs": [],
   "source": [
    "def recommend(model, movie_user_matrix, movie):\n",
    "    \"\"\"\n",
    "    Recommends 10 movies for the user based on a movie name they input\n",
    "    \n",
    "    Arguments:\n",
    "    model ('sklearn.neighbors._unsupervised.NearestNeighbors')\n",
    "    movie_user_matrix (scipy.sparse.csr.csr_matrix): compressed sparse matrix\n",
    "    movie (int): index of the most similar movie title to the user_movie string\n",
    "    \n",
    "    Returns:\n",
    "    recommendations (list)\n",
    "    \"\"\"\n",
    "    \n",
    "    # Fit the data to the model\n",
    "    model.fit(movie_user_matrix)\n",
    "    \n",
    "    distance, index = model.kneighbors(movie_user_matrix[movie], n_neighbors=11)\n",
    "    \n",
    "    # Recommendations\n",
    "    recommendations = \\\n",
    "            sorted(\n",
    "                list(\n",
    "                    zip(\n",
    "                        index.squeeze().tolist(),\n",
    "                        distance.squeeze().tolist()\n",
    "                    )\n",
    "                ),\n",
    "                key=lambda x: x[1]\n",
    "            )[:0:-1]\n",
    "    \n",
    "    return recommendations"
   ]
  },
  {
   "cell_type": "code",
   "execution_count": 4,
   "metadata": {},
   "outputs": [],
   "source": [
    "def find_movie(hashmap, user_movie):\n",
    "    \"\"\"\n",
    "    Finds the movie name in the dictionary\n",
    "    \n",
    "    Arguments:\n",
    "    hashmap (dict): holds movie title and index of that movie\n",
    "    user_movie (string): user entered movie title\n",
    "    \n",
    "    Returns:\n",
    "    movie (int): index of the most similar movie title to the user_movie string\n",
    "                 returns -1 if movie not found\n",
    "    \"\"\"\n",
    "    \n",
    "    movies = []\n",
    "    \n",
    "    for key, val in hashmap.items():\n",
    "        # Uses fuzzywuzzy to get similarity in name and picks closest match\n",
    "        ratio = fuzz.ratio(key.lower(), user_movie.lower())\n",
    "        \n",
    "        if ratio >= 60:\n",
    "            movies.append((key, val, ratio))\n",
    "    \n",
    "    movies = sorted(movies, key=lambda x: x[2])[::-1]\n",
    "\n",
    "    if not movies:\n",
    "        # change this to a special character\n",
    "        movie = -1\n",
    "    else:\n",
    "        movie = movies[0][1]\n",
    "        \n",
    "    return movie"
   ]
  },
  {
   "cell_type": "markdown",
   "metadata": {},
   "source": [
    "<h2>Testing</h2>"
   ]
  },
  {
   "cell_type": "code",
   "execution_count": 7,
   "metadata": {},
   "outputs": [
    {
     "name": "stdout",
     "output_type": "stream",
     "text": [
      "Enter a movie title: V for Vendetta\n",
      "Recommendations for 396:\n",
      "0: Lord of the Rings: The Two Towers, The (2002) \n",
      "1: Lord of the Rings: The Return of the King, The (2003) \n",
      "2: Lord of the Rings: The Fellowship of the Ring, The (2001) \n",
      "3: Pan's Labyrinth (Laberinto del fauno, El) (2006) \n",
      "4: Departed, The (2006) \n",
      "5: Kill Bill: Vol. 2 (2004) \n",
      "6: Kill Bill: Vol. 1 (2003) \n",
      "7: Sin City (2005) \n",
      "8: 300 (2007) \n",
      "9: Batman Begins (2005) \n"
     ]
    }
   ],
   "source": [
    "movie_user_matrix, hashmap = filter_data()\n",
    "# movie_user_matrix = movie_user_matrix.transpose()\n",
    "# hold all value indices as a list of tuples\n",
    "# all_cell_indices = indices_of_matrix(movie_user_matrix)\n",
    "# random_cells = get_random_indices(all_cell_indices, 0.2)\n",
    "\n",
    "user_input = input(\"Enter a movie title: \")\n",
    "movie = find_movie(hashmap, user_input)\n",
    "if movie == -1:\n",
    "    print(\"Movie not found.\")\n",
    "else:\n",
    "    model = NearestNeighbors(n_neighbors=11, algorithm='brute', metric='cosine', n_jobs=-1)\n",
    "    recommendations = recommend(model, movie_user_matrix, movie)\n",
    "    \n",
    "    reverse_hashmap = {v: k for k, v in hashmap.items()}\n",
    "\n",
    "    print('Recommendations for {}:'.format(movie))\n",
    "    for i, (idx, dist) in enumerate(recommendations):\n",
    "        print('{0}: {1} '.format(i, reverse_hashmap[idx], dist))\n"
   ]
  }
 ],
 "metadata": {
  "kernelspec": {
   "display_name": "Python 3",
   "language": "python",
   "name": "python3"
  },
  "language_info": {
   "codemirror_mode": {
    "name": "ipython",
    "version": 3
   },
   "file_extension": ".py",
   "mimetype": "text/x-python",
   "name": "python",
   "nbconvert_exporter": "python",
   "pygments_lexer": "ipython3",
   "version": "3.7.7"
  }
 },
 "nbformat": 4,
 "nbformat_minor": 2
}
